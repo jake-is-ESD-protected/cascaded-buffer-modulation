{
 "cells": [
  {
   "cell_type": "code",
   "execution_count": 1,
   "metadata": {
    "tags": []
   },
   "outputs": [],
   "source": [
    "import numpy as np\n",
    "import matplotlib\n",
    "matplotlib.use(\"pgf\")\n",
    "import matplotlib.pyplot as plt\n",
    "matplotlib.rcParams.update({\n",
    "    \"pgf.texsystem\": \"pdflatex\",\n",
    "    'font.family': 'serif',\n",
    "    'text.usetex': True,\n",
    "    'pgf.rcfonts': False,\n",
    "})"
   ]
  },
  {
   "cell_type": "code",
   "execution_count": 2,
   "metadata": {},
   "outputs": [],
   "source": [
    "BUF_LEN = 1024\n",
    "FS = 48000\n",
    "\n",
    "true_idxs = np.arange(0, BUF_LEN, 1)\n",
    "demo_sine = np.sin((2 * np.pi / BUF_LEN) * 5 * true_idxs) * BUF_LEN/2\n",
    "\n",
    "def tria(idxs):\n",
    "    res = np.copy(idxs)\n",
    "    l = len(res)\n",
    "    for i in range(l):\n",
    "        if i < l//2:\n",
    "            res[i] *= 2\n",
    "        else:\n",
    "            res[i] = (res[i] * (-2)) + (l * 2)\n",
    "    return res / max(res) * (l - 1)\n",
    "\n",
    "def sine(idxs):\n",
    "    l = len(idxs)\n",
    "    w0 = 2 * np.pi / l\n",
    "    return np.sin(w0 * idxs) * l/2 + (l/2 - 1)"
   ]
  },
  {
   "cell_type": "code",
   "execution_count": 3,
   "metadata": {
    "tags": []
   },
   "outputs": [],
   "source": [
    "tria_idxs = tria(true_idxs)\n",
    "sine_idxs = sine(true_idxs)\n",
    "demo_sine_tria = np.copy(demo_sine)\n",
    "demo_sine_sine = np.copy(demo_sine)\n",
    "for i in true_idxs:\n",
    "    demo_sine_tria[i] = demo_sine[int(tria_idxs[i])] \n",
    "    demo_sine_sine[i] = demo_sine[int(sine_idxs[i])]\n",
    "\n",
    "all_idxs = [true_idxs, tria_idxs, sine_idxs]\n",
    "all_waves = [demo_sine, demo_sine_tria, demo_sine_sine]\n",
    "labels = [\"base function\", \"triangle function\", \"sine function\"]\n",
    "\n",
    "fig, axs = plt.subplots(3, 3, figsize=(6, 6))\n",
    "\n",
    "for i, (idx, wave, label) in enumerate(zip(all_idxs, all_waves, labels)):\n",
    "    axs[i, 0].plot(idx, label=label)\n",
    "    axs[i, 0].set_xlabel(\"True index\")\n",
    "    axs[i, 0].set_ylabel(\"Computed index\")\n",
    "    axs[i, 0].grid()\n",
    "\n",
    "    axs[i, 1].plot(wave, label=f\"Sine indexed by {label}\")\n",
    "    axs[i, 1].set_xlabel(\"True index\")\n",
    "    axs[i, 1].set_ylabel(\"Computed value\")\n",
    "    axs[i, 1].grid()\n",
    "    \n",
    "    X = np.abs(np.fft.rfft(wave))\n",
    "    axs[i, 2].plot(X / max(X), label=f\"Sine indexed by {label}\")\n",
    "    axs[i, 2].set_xlabel(\"Frequency by buffer\")\n",
    "    axs[i, 2].set_ylabel(\"Normalized magnitude\")\n",
    "    axs[i, 2].grid()\n",
    "    axs[i, 2].semilogx()\n",
    "\n",
    "plt.tight_layout()\n",
    "\n",
    "plt.savefig(\"indexer_types.pgf\")\n",
    "#!pip install tikzplotlib\n",
    "#import tikzplotlib\n",
    "#tikzplotlib.save(\"indexer_types.pgf\")"
   ]
  },
  {
   "cell_type": "code",
   "execution_count": 4,
   "metadata": {
    "tags": []
   },
   "outputs": [],
   "source": [
    "plt.plot(true_idxs, sine(sine(sine(true_idxs))))\n",
    "plt.xlabel(\"True index\")\n",
    "plt.ylabel(\"Computed index\")\n",
    "plt.grid()"
   ]
  },
  {
   "cell_type": "code",
   "execution_count": 5,
   "metadata": {
    "tags": []
   },
   "outputs": [],
   "source": [
    "plt.plot(tria(tria(tria(true_idxs))))\n",
    "plt.xlabel(\"True index\")\n",
    "plt.ylabel(\"Computed index\")\n",
    "plt.grid()"
   ]
  },
  {
   "cell_type": "code",
   "execution_count": 6,
   "metadata": {
    "tags": []
   },
   "outputs": [],
   "source": [
    "plt.plot(sine(tria(sine(true_idxs))))\n",
    "plt.xlabel(\"True index\")\n",
    "plt.ylabel(\"Computed index\")\n",
    "plt.grid()"
   ]
  },
  {
   "cell_type": "code",
   "execution_count": 8,
   "metadata": {
    "tags": []
   },
   "outputs": [],
   "source": [
    "import librosa as lr\n",
    "\n",
    "true_idxs = np.arange(0, FS, 1)\n",
    "tom_idxs = sine(tria(sine(true_idxs)))\n",
    "demo_tom, _ = lr.load(\"./samples/tom16.wav\", sr=FS, duration=1)\n",
    "demo_tom_mod = np.copy(demo_tom)\n",
    "for i in true_idxs:\n",
    "    demo_tom_mod[i] = demo_tom[int(tom_idxs[i])]\n",
    "\n",
    "all_idxs = [true_idxs, tom_idxs]\n",
    "all_waves = [demo_tom, demo_tom_mod]\n",
    "labels = [\"original\", \"cascaded modulation\"]\n",
    "\n",
    "fig, axs = plt.subplots(2, 3, figsize=(6, 4))\n",
    "\n",
    "for i, (idx, wave, label) in enumerate(zip(all_idxs, all_waves, labels)):\n",
    "    \n",
    "    # visually downsample data for smaller file size\n",
    "    factor = 2\n",
    "    vis_idx_y = [idx[n] for n in range(len(idx)) if n % factor == 0]\n",
    "    vis_idx_x = np.arange(0, FS, factor)\n",
    "    vis_wave_y = [wave[n] for n in range(len(wave)) if n % factor == 0]\n",
    "    \n",
    "    axs[i, 0].plot(vis_idx_x, vis_idx_y, label=label)\n",
    "    axs[i, 0].set_xlabel(\"True index\")\n",
    "    axs[i, 0].set_ylabel(\"Computed index\")\n",
    "    axs[i, 0].grid()\n",
    "\n",
    "    axs[i, 1].plot(vis_idx_x, vis_wave_y, label=f\"Tom indexed by {label}\")\n",
    "    axs[i, 1].set_xlabel(\"True index\")\n",
    "    axs[i, 1].set_ylabel(\"Computed value\")\n",
    "    axs[i, 1].grid()\n",
    "    \n",
    "    X = np.abs(np.fft.rfft(wave))\n",
    "    #X /= max(X)\n",
    "    vis_X_x = np.arange(0, FS//2 + 1 + factor, factor)\n",
    "    vis_X_y = np.append(X[0], [X[n] for n in range(len(X)) if n % factor == 0])\n",
    "    axs[i, 2].plot(vis_X_x, vis_X_y, label=f\"Tom indexed by {label}\")\n",
    "    #axs[i, 2].plot(vis_X_x, X, label=f\"Tom indexed by {label}\")\n",
    "    axs[i, 2].set_xlabel(\"Frequency by buffer\")\n",
    "    axs[i, 2].set_ylabel(\"Normalized magnitude\")\n",
    "    axs[i, 2].grid()\n",
    "    axs[i, 2].semilogx()\n",
    "\n",
    "plt.tight_layout()\n",
    "\n",
    "plt.savefig(\"tom_modulated.pgf\")\n",
    "#!pip install tikzplotlib\n",
    "#import tikzplotlib\n",
    "#tikzplotlib.save(\"tom_modulated.pgf\")"
   ]
  }
 ],
 "metadata": {
  "kernelspec": {
   "display_name": "Python 3 (ipykernel)",
   "language": "python",
   "name": "python3"
  },
  "language_info": {
   "codemirror_mode": {
    "name": "ipython",
    "version": 3
   },
   "file_extension": ".py",
   "mimetype": "text/x-python",
   "name": "python",
   "nbconvert_exporter": "python",
   "pygments_lexer": "ipython3",
   "version": "3.8.10"
  },
  "vscode": {
   "interpreter": {
    "hash": "b9b24f850da19de23caac7aa1b7865bc71d1fd8b0a53319b7e2e9af538d1b307"
   }
  }
 },
 "nbformat": 4,
 "nbformat_minor": 4
}
